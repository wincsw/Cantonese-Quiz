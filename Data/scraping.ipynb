{
 "cells": [
  {
   "cell_type": "code",
   "execution_count": 89,
   "metadata": {},
   "outputs": [],
   "source": [
    "import requests\n",
    "from bs4 import BeautifulSoup\n",
    "import pycantonese\n",
    "import re\n",
    "\n",
    "# Data Soruce: https://cantonese.ca/ \n",
    "\n",
    "corpus = pycantonese.hkcancor()\n",
    "\n",
    "url = \"https://cantonese.ca/\"\n",
    "main_html = requests.get(url).text\n",
    "main_soup = BeautifulSoup(main_html, \"lxml\")\n"
   ]
  },
  {
   "cell_type": "code",
   "execution_count": 90,
   "metadata": {},
   "outputs": [],
   "source": [
    "class Group:\n",
    "    def __init__(self, name, link):\n",
    "        self.name = name\n",
    "        self.link = link\n",
    "        self.html = requests.get(url+self.link).text\n",
    "        self.soup = BeautifulSoup(self.html, \"lxml\")\n",
    "    # add a to dic method https://stackoverflow.com/questions/34997174/how-to-convert-list-of-model-objects-to-pandas-dataframe/41762270 "
   ]
  },
  {
   "cell_type": "code",
   "execution_count": 91,
   "metadata": {},
   "outputs": [],
   "source": [
    "groups = []\n",
    "\n",
    "for link in main_soup.find_all('a'):\n",
    "    if re.search(r\"[\\u4e00-\\u9fff]\", link.decode_contents()) or re.search(r\"[^a-zA-Z0-9\\s]\", link.decode_contents()):\n",
    "        continue\n",
    "    groups.append(Group(link.decode_contents(), link.get(\"href\")))\n",
    "\n",
    "del groups[0:4]\n",
    "del groups[-2:]"
   ]
  },
  {
   "cell_type": "code",
   "execution_count": 99,
   "metadata": {},
   "outputs": [
    {
     "name": "stdout",
     "output_type": "stream",
     "text": [
      "{'Eng': \"what's up?\", 'Ch': '點呀'}\n",
      "{'Eng': 'thank you!', 'Ch': '唔該\\n多謝'}\n",
      "{'Eng': \"you're welcome\", 'Ch': '唔哂（客氣）'}\n",
      "{'Eng': 'how are you?', 'Ch': '你好嗎'}\n",
      "{'Eng': 'have you eaten yet?', 'Ch': '你食咗飯未呀？'}\n",
      "{'Eng': 'how have you been lately?', 'Ch': '最近點呀？'}\n",
      "{'Eng': 'bon appétit!', 'Ch': '食飯'}\n",
      "{'Eng': 'hello?', 'Ch': '喂'}\n",
      "{'Eng': \"I'm... years old\\xa0\", 'Ch': '我...歲\\xa0'}\n",
      "{'Eng': 'see you tomorrow!', 'Ch': '聽日見'}\n",
      "{'Eng': 'good morning', 'Ch': '早晨'}\n",
      "{'Eng': 'bill, please', 'Ch': '唔該埋單'}\n",
      "{'Eng': 'here you go', 'Ch': '拿'}\n",
      "{'Eng': 'I love you', 'Ch': '我愛你'}\n"
     ]
    }
   ],
   "source": [
    "words = []\n",
    "\n",
    "for l in groups[0].soup.find_all('tr'):\n",
    "    td = l.findChildren(\"td\")[:-1]\n",
    "    if len(td[1]) == 0:\n",
    "        continue\n",
    "    temp_dic = {\"Eng\": td[0].get_text(), \"Ch\": td[1].get_text()}\n",
    "    print(temp_dic)\n",
    "    words.append(temp_dic)\n",
    "\n",
    "    #print(l.decode_contents())"
   ]
  },
  {
   "cell_type": "code",
   "execution_count": 41,
   "metadata": {},
   "outputs": [],
   "source": [
    "\n",
    "\n",
    "start = 5\n",
    "\n",
    "sub_group = []\n",
    "for l in range(0, len(links)-1, 2):\n",
    "    sub_group.append(Group(links[l]))\n",
    "    #print(int(l/2), sub_group[int(l/2)].link)\n",
    "sub_group = sub_group[4:]\n"
   ]
  },
  {
   "cell_type": "code",
   "execution_count": 111,
   "metadata": {},
   "outputs": [
    {
     "name": "stdout",
     "output_type": "stream",
     "text": [
      "*X:    點         呀\n",
      "%mor:  PRON|dim2  PART|aa4\n",
      "\n",
      "['dim2', 'aa4']\n",
      "*X:    唔該\n",
      "%mor:  X|m4goi1\n",
      "\n",
      "*X:    多謝\n",
      "%mor:  VERB|do1ze6\n",
      "\n",
      "['m4goi1', 'do1ze6']\n",
      "*X:    唔      哂         （  客氣            ）\n",
      "%mor:  ADV|m4  VERB|can2  （  NOUN|haak3hei3  ）\n",
      "\n",
      "['m4', 'can2', None, 'haak3hei3', None]\n",
      "*X:    你         好        嗎\n",
      "%mor:  PRON|nei5  ADV|hou2  PART|maa3\n",
      "\n",
      "['nei5', 'hou2', 'maa3']\n",
      "*X:    你         食         咗        飯          未        呀        ？\n",
      "%mor:  PRON|nei5  VERB|sik6  PART|zo2  NOUN|faan6  ADV|mei6  PART|aa4  ？\n",
      "\n",
      "['nei5', 'sik6', 'zo2', 'faan6', 'mei6', 'aa4', None]\n",
      "*X:    最近           點         呀        ？\n",
      "%mor:  ADV|zeoi3gan6  PRON|dim2  PART|aa4  ？\n",
      "\n",
      "['zeoi3gan6', 'dim2', 'aa4', None]\n",
      "*X:    食飯\n",
      "%mor:  VERB|sik6faan6\n",
      "\n",
      "['sik6faan6']\n",
      "*X:    喂\n",
      "%mor:  INTJ|wai3\n",
      "\n",
      "['wai3']\n",
      "*X:    我         ...     歲\n",
      "%mor:  PRON|ngo5  PUNCT|  NOUN|seoi3\n",
      "\n",
      "['ngo5', None, 'seoi3']\n",
      "*X:    聽日           見\n",
      "%mor:  ADV|ting1jat6  VERB|gin3\n",
      "\n",
      "['ting1jat6', 'gin3']\n",
      "*X:    早晨\n",
      "%mor:  ADV|zou2san4\n",
      "\n",
      "['zou2san4']\n",
      "*X:    唔該      埋單\n",
      "%mor:  X|m4goi1  VERB|maai4daan1\n",
      "\n",
      "['m4goi1', 'maai4daan1']\n",
      "*X:    拿\n",
      "%mor:  VERB|laa2\n",
      "\n",
      "['laa2']\n",
      "*X:    我         愛        你\n",
      "%mor:  PRON|ngo5  VERB|oi3  PRON|nei5\n",
      "\n",
      "['ngo5', 'oi3', 'nei5']\n"
     ]
    }
   ],
   "source": [
    "for w in words:\n",
    "    t = pycantonese.parse_text(w['Ch'])\n",
    "    #if t.length > 0:\n",
    "    print(t.head())\n",
    "    print(t.jyutping())"
   ]
  }
 ],
 "metadata": {
  "interpreter": {
   "hash": "e8dbf233e13418d4baafe20e059d2c9b5255ba3d0d2088e14de207bfff80b654"
  },
  "kernelspec": {
   "display_name": "Python 3.8.8 ('base')",
   "language": "python",
   "name": "python3"
  },
  "language_info": {
   "codemirror_mode": {
    "name": "ipython",
    "version": 3
   },
   "file_extension": ".py",
   "mimetype": "text/x-python",
   "name": "python",
   "nbconvert_exporter": "python",
   "pygments_lexer": "ipython3",
   "version": "3.8.8"
  },
  "orig_nbformat": 4
 },
 "nbformat": 4,
 "nbformat_minor": 2
}
