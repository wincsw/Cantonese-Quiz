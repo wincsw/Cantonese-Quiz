{
 "cells": [
  {
   "cell_type": "code",
   "execution_count": 32,
   "metadata": {},
   "outputs": [],
   "source": [
    "import requests\n",
    "from bs4 import BeautifulSoup\n",
    "import pycantonese\n",
    "\n",
    "# Data Soruce: https://cantonese.ca/ \n",
    "\n",
    "corpus = pycantonese.hkcancor()\n",
    "\n",
    "url = \"https://cantonese.ca/\"\n",
    "main_html = requests.get(url).text\n",
    "main_soup = BeautifulSoup(main_html, \"lxml\")\n",
    "\n",
    "links = []\n",
    "\n",
    "for link in main_soup.find_all('a'):\n",
    "    links.append(link.get(\"href\"))"
   ]
  },
  {
   "cell_type": "code",
   "execution_count": 42,
   "metadata": {},
   "outputs": [
    {
     "data": {
      "text/plain": [
       "[Token(word='唔該', pos='L1', jyutping='m4goi1', mor=None, gloss=None, gra=None),\n",
       " Token(word='唔該', pos='L1', jyutping='m4goi1', mor=None, gloss=None, gra=None),\n",
       " Token(word='唔該', pos='L1', jyutping='m4goi1', mor=None, gloss=None, gra=None),\n",
       " Token(word='唔該', pos='L1', jyutping='m4goi1', mor=None, gloss=None, gra=None),\n",
       " Token(word='唔該', pos='L1', jyutping='m4goi1', mor=None, gloss=None, gra=None)]"
      ]
     },
     "execution_count": 42,
     "metadata": {},
     "output_type": "execute_result"
    }
   ],
   "source": [
    "class Group:\n",
    "    def __init__(self, html):\n",
    "        self.html = html\n",
    "        self.soup = BeautifulSoup(html, \"lxml\")\n",
    "\n",
    "\n",
    "sub_group = []\n",
    "sub_group.append(Group(requests.get(url+links[9]).text))\n",
    "temp = sub_group[0].soup.find_all('a')[2].decode_contents()\n",
    "t = corpus.search(character=temp)\n",
    "t[:5]"
   ]
  }
 ],
 "metadata": {
  "interpreter": {
   "hash": "e8dbf233e13418d4baafe20e059d2c9b5255ba3d0d2088e14de207bfff80b654"
  },
  "kernelspec": {
   "display_name": "Python 3.8.8 ('base')",
   "language": "python",
   "name": "python3"
  },
  "language_info": {
   "codemirror_mode": {
    "name": "ipython",
    "version": 3
   },
   "file_extension": ".py",
   "mimetype": "text/x-python",
   "name": "python",
   "nbconvert_exporter": "python",
   "pygments_lexer": "ipython3",
   "version": "3.8.8"
  },
  "orig_nbformat": 4
 },
 "nbformat": 4,
 "nbformat_minor": 2
}
